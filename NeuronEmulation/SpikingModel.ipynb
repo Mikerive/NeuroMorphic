{
 "cells": [
  {
   "cell_type": "code",
   "execution_count": 1,
   "metadata": {},
   "outputs": [
    {
     "ename": "ModuleNotFoundError",
     "evalue": "No module named 'numpy'",
     "output_type": "error",
     "traceback": [
      "\u001b[1;31m---------------------------------------------------------------------------\u001b[0m",
      "\u001b[1;31mModuleNotFoundError\u001b[0m                       Traceback (most recent call last)",
      "Cell \u001b[1;32mIn[1], line 1\u001b[0m\n\u001b[1;32m----> 1\u001b[0m \u001b[38;5;28;01mimport\u001b[39;00m \u001b[38;5;21;01mnumpy\u001b[39;00m \u001b[38;5;28;01mas\u001b[39;00m \u001b[38;5;21;01mnp\u001b[39;00m\n\u001b[0;32m      2\u001b[0m \u001b[38;5;28;01mimport\u001b[39;00m \u001b[38;5;21;01mmatplotlib\u001b[39;00m\u001b[38;5;21;01m.\u001b[39;00m\u001b[38;5;21;01mpyplot\u001b[39;00m \u001b[38;5;28;01mas\u001b[39;00m \u001b[38;5;21;01mplt\u001b[39;00m\n\u001b[0;32m      4\u001b[0m \u001b[38;5;66;03m# Model and simulation parameters for three response dynamics\u001b[39;00m\n",
      "\u001b[1;31mModuleNotFoundError\u001b[0m: No module named 'numpy'"
     ]
    }
   ],
   "source": [
    "import numpy as np\n",
    "import matplotlib.pyplot as plt\n",
    "\n",
    "# Model and simulation parameters for three response dynamics\n",
    "x  = 5\n",
    "y  = 140\n",
    "\n",
    "titles = ['Regular Spiking', 'Chattering', 'Fast spiking']\n",
    "a  = [0.02, 0.02, 0.1]\n",
    "b  = [0.2 , 0.2 , 0.2]\n",
    "c  = [-65, -50  , -65]\n",
    "d  = [8   , 2   , 2  ]\n",
    "\n",
    "v0 = -70         # Resting potential        [mV]\n",
    "T       = 200    # Simulation time          [mSec]\n",
    "dt      = 0.25   # Simulation time interval [mSec]\n",
    "\n",
    "time    = np.arange(0, T + dt, dt)  # Time array\n",
    "\n",
    "# Define the stimulus (Step Function)\n",
    "\n",
    "stim = np.zeros(len(time))\n",
    "for i,t in enumerate(stim):\n",
    "    if i > 20:\n",
    "        stim[i] = 15\n",
    "        \n",
    "trace = np.zeros((2,len(time))) # Tracing du and dv\n",
    "\n",
    "\n",
    "# Simulate\n",
    "\n",
    "for exp in range(len(a)):\n",
    "    v  = v0\n",
    "    u  = b[exp]*v\n",
    "    spikes = []\n",
    "    for i, j in enumerate(stim):\n",
    "        v += dt * (0.04*v**2 + x*v + y - u + stim[i]) \n",
    "        u += dt * a[exp]*(b[exp]*v-u)\n",
    "        if v > 30:\n",
    "            trace[0,i] = 30\n",
    "            v = c[exp] \n",
    "            u += d[exp]\n",
    "        else:\n",
    "            trace[0,i] = v \n",
    "            trace[1,i] = u\n",
    "            \n",
    "    # Plot \n",
    "    \n",
    "    plt.figure(figsize=(10,5))\n",
    "    plt.title('Izhikevich Model: {}'.format(titles[exp]), fontsize=15) \n",
    "    plt.ylabel('Membrane Potential (mV)', fontsize=15) \n",
    "    plt.xlabel('Time (msec)', fontsize=15)\n",
    "    plt.plot(time, trace[0], linewidth=2, label = 'Vm')\n",
    "    plt.plot(time, trace[1], linewidth=2, label = 'Recovery', color='green')\n",
    "    plt.plot(time, stim + v0, label = 'Stimuli (Scaled)', color='sandybrown', linewidth=2)\n",
    "    plt.legend(loc=1)"
   ]
  },
  {
   "cell_type": "code",
   "execution_count": null,
   "metadata": {},
   "outputs": [],
   "source": []
  }
 ],
 "metadata": {
  "kernelspec": {
   "display_name": "base",
   "language": "python",
   "name": "python3"
  },
  "language_info": {
   "codemirror_mode": {
    "name": "ipython",
    "version": 3
   },
   "file_extension": ".py",
   "mimetype": "text/x-python",
   "name": "python",
   "nbconvert_exporter": "python",
   "pygments_lexer": "ipython3",
   "version": "3.11.4"
  }
 },
 "nbformat": 4,
 "nbformat_minor": 2
}
